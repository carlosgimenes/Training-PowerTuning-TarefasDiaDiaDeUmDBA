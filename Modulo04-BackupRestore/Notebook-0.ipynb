{
    "metadata": {
        "kernelspec": {
            "name": "SQL",
            "display_name": "SQL",
            "language": "sql"
        },
        "language_info": {
            "name": "sql",
            "version": ""
        }
    },
    "nbformat_minor": 2,
    "nbformat": 4,
    "cells": [
        {
            "cell_type": "markdown",
            "source": [
                "# **Tarefas do dia a dia de um DBA**"
            ],
            "metadata": {
                "azdata_cell_guid": "55958a84-a6d6-4ece-877b-f8a9220450ad"
            },
            "attachments": {}
        }
    ]
}