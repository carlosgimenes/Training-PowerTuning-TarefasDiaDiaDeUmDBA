{
    "metadata": {
        "kernelspec": {
            "name": "SQL",
            "display_name": "SQL",
            "language": "sql"
        },
        "language_info": {
            "name": "sql",
            "version": ""
        }
    },
    "nbformat_minor": 2,
    "nbformat": 4,
    "cells": [
        {
            "cell_type": "markdown",
            "source": [
                "# **Backup e Restore**"
            ],
            "metadata": {
                "azdata_cell_guid": "9699d7e2-d355-4635-aa6d-184cd9b74b45"
            },
            "attachments": {}
        },
        {
            "cell_type": "markdown",
            "source": [
                "## **Recovery Model**\n",
                "\n",
                "### \n",
                "\n",
                "- **SIMPLE**\n",
                "    - **Menor esforço administrativo, pois não tem backup de Log**\n",
                "    - **Não é possível restaurar até um determinado momento**\n",
                "    - **Não indicado para bases críticas**\n",
                "- **FULL**\n",
                "    - **Guarda todas as operações de escrita no Log**\n",
                "    - **Obrigatório para bases críticas**\n",
                "    - **DBA deve ficar atento ao tamanho do arquivo de Log**\n",
                "    - **Consegue restaurar o Banco de Dados até um determinado segundo do dia**"
            ],
            "metadata": {
                "azdata_cell_guid": "4537b2de-50c3-4bf0-a007-0a6462337c40"
            },
            "attachments": {}
        },
        {
            "cell_type": "markdown",
            "source": [
                "## **Tipos de Backup**\n",
                "\n",
                "- **FULL**\n",
                "- **Diferencial**\n",
                "- **Log**\n",
                "- **File/Filegroup**"
            ],
            "metadata": {
                "azdata_cell_guid": "87a32aed-b76f-438d-8663-c714335fd415"
            },
            "attachments": {}
        },
        {
            "cell_type": "markdown",
            "source": [
                "## **Backup FULL**\n",
                "\n",
                "- **Salva todas as páginas de um Database**\n",
                "- **Salva o Log das Transções ativas durante o backup**\n",
                "- **Principais opções:**\n",
                "    - **INIT / NOINIT - Define se o arquivo de backup será sobrescrito**\n",
                "    - **COMPRESSION - Faz a compressão do arquivo de backup. A partir do SQL Server 2008 R2, disponível na versão Standard**\n",
                "    - **STATS = X onde se X = 10, irá informar o progresso do backup a cada 10% de execução**\n",
                "    - **CHECKSUM - Ajuda a encontrar problemas de corrupção mais rapidamente**"
            ],
            "metadata": {
                "azdata_cell_guid": "6c49687b-68a4-406b-bdaf-57ced49c5cf7"
            },
            "attachments": {}
        },
        {
            "cell_type": "code",
            "source": [
                "BACKUP DATABASE [NOME_DATABASE]\n",
                "\tTO DISK = N’Caminho\\Nome_Database_Dados.bak’\n",
                "\tWITH \n",
                "    INIT, \n",
                "    COMPRESSION, \n",
                "    STATS = 10, \n",
                "    CHECKSUM"
            ],
            "metadata": {
                "azdata_cell_guid": "3138f2cb-8087-4202-8099-99374f22d5e0",
                "language": "sql"
            },
            "outputs": [],
            "execution_count": null
        }
    ]
}